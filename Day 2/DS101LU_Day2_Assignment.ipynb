{
 "cells": [
  {
   "cell_type": "markdown",
   "metadata": {},
   "source": [
    "### Questions 1: Create an empty list. Accept 10 numbers from the user and append to it the list if it is an even number."
   ]
  },
  {
   "cell_type": "code",
   "execution_count": 1,
   "metadata": {},
   "outputs": [
    {
     "name": "stdout",
     "output_type": "stream",
     "text": [
      "Enter a number:12\n",
      "Enter a number:13\n",
      "Enter a number:14\n",
      "Enter a number:15\n",
      "Enter a number:16\n",
      "Enter a number:17\n",
      "Enter a number:18\n",
      "Enter a number:19\n",
      "Enter a number:20\n",
      "Enter a number:21\n",
      "Even numbers from the entered numbers are: [12, 14, 16, 18, 20]\n"
     ]
    }
   ],
   "source": [
    "list1=[]\n",
    "\n",
    "for i in range(0,10):\n",
    "    number=int(input(\"Enter a number:\"))\n",
    "    if(number%2==0):\n",
    "        list1.append(number)\n",
    "        \n",
    "print(\"Even numbers from the entered numbers are:\",list1)"
   ]
  },
  {
   "cell_type": "markdown",
   "metadata": {},
   "source": [
    "### Questions 2: Create a notebook on LIST COMPREHENSION. This exercise is to put you in a Self learning mode"
   ]
  },
  {
   "cell_type": "raw",
   "metadata": {},
   "source": [
    "List Comprehensions is one of the concept helps to simplify our code and decreases the lines of code. And it uses on only single line to complete the required code with using for loop. Inspite of writing code in a for loop, taking more than 3 lines. But when using list comprehension, it simplifies the code to use in a single line.\n",
    "Now we will "
   ]
  },
  {
   "cell_type": "code",
   "execution_count": 2,
   "metadata": {},
   "outputs": [
    {
     "name": "stdout",
     "output_type": "stream",
     "text": [
      "[0, 2, 4, 6, 8]\n"
     ]
    }
   ],
   "source": [
    "list1=[i for i in range(0,10) if i%2==0]\n",
    "print(list1)"
   ]
  },
  {
   "cell_type": "markdown",
   "metadata": {},
   "source": [
    "### Questions 3:\n",
    "You have seen in the videos how powerful dictionary data structure is.\n",
    "In this assignment, given a number n, you have to write a program that generates a dictionary d which\n",
    "contains (i, i*i), where i is from 1 to n (both included).\n",
    "Then you have to just print this dictionary d.\n",
    "\n",
    "Example:\n",
    "Input: 4\n",
    "will give output as\n",
    "{1: 1, 2: 4, 3: 9, 4: 16}\n",
    "\n",
    "Input Format:\n",
    "Take the number n in a single line.\n",
    "\n",
    "Output Format:\n",
    "Print the dictionary d in a single line.\n",
    "\n",
    "Example:\n",
    "Input:\n",
    "8\n",
    "Output:\n",
    "{1: 1, 2: 4, 3: 9, 4: 16, 5: 25, 6: 36, 7: 49, 8: 64}"
   ]
  },
  {
   "cell_type": "code",
   "execution_count": 3,
   "metadata": {
    "scrolled": true
   },
   "outputs": [
    {
     "name": "stdout",
     "output_type": "stream",
     "text": [
      "Enter a number:6\n",
      "{1: 1, 2: 4, 3: 9, 4: 16, 5: 25, 6: 36}\n"
     ]
    }
   ],
   "source": [
    "num1=int(input(\"Enter a number:\"))\n",
    "dict1=dict()\n",
    "\n",
    "for i in range(1,num1+1):\n",
    "    dict1[i]=i**2\n",
    "\n",
    "print(dict1)\n",
    "    "
   ]
  },
  {
   "cell_type": "markdown",
   "metadata": {},
   "source": [
    "### Questions 4:\n",
    "There is a robot which wants to go the charging point to charge itself.\n",
    "The robot moves in a 2-D plane from the original point (0,0). The robot can\n",
    "move toward UP, DOWN, LEFT and RIGHT with given steps.\n",
    "\n",
    "The trace of robot movement is shown as the following:\n",
    "UP 5\n",
    "DOWN 3\n",
    "LEFT 3\n",
    "RIGHT 2\n",
    "\n",
    "Then, the output of the program should be:\n",
    "2\n",
    "\n",
    "The numbers after the direction are steps.\n",
    "Write a program to compute the distance between the current position after\n",
    "a sequence of movement and original point. If the distance is a float, then\n",
    "just print the nearest integer (use round() function for that and then convert\n",
    "it into an integer).\n",
    "\n",
    "Input Format:\n",
    "The first line of the input contains a number n which implies the number of\n",
    "directions to be given.\n",
    "The next n lines contain the direction and the step separated by a space.\n",
    "\n",
    "Output Format:\n",
    "Print the distance from the original position to the current position.\n",
    "\n",
    "Example:\n",
    "Input:\n",
    "4\n",
    "UP 5\n",
    "DOWN 3\n",
    "LEFT 3\n",
    "RIGHT 2\n",
    "Output:\n",
    "2"
   ]
  },
  {
   "cell_type": "code",
   "execution_count": 6,
   "metadata": {},
   "outputs": [
    {
     "name": "stdout",
     "output_type": "stream",
     "text": [
      "Enter number of direction of inputs:4\n",
      "up 5\n",
      "down 3\n",
      "left 3\n",
      "right 2\n",
      "Distance between the origin and the new position is: 5\n"
     ]
    }
   ],
   "source": [
    "import math\n",
    "\n",
    "position=[0,0]\n",
    "\n",
    "num1=int(input(\"Enter number of direction of inputs:\"))\n",
    "\n",
    "for i in range(num1):\n",
    "    # list of movement commands\n",
    "    mov=input(\"\").split()\n",
    "    step=int(mov[1])\n",
    "    \n",
    "    if mov[0].upper()==\"UP\":\n",
    "        position[1]+=step #increment y coordinate\n",
    "        \n",
    "    elif mov[0].upper()==\"DOWN\":\n",
    "        position[1]-=step #decrement y coordinate\n",
    "        \n",
    "    elif mov[0].upper()==\"LEFT\":\n",
    "        position[0]-=step #decrement x coordinate\n",
    "        \n",
    "    elif mov[0].upper()==\"RIGHT\":\n",
    "        position[1]+=step #increment x coordinate\n",
    "    \n",
    "    else:\n",
    "        print(\"Enter proper direction\")\n",
    "\n",
    "dist=round(math.sqrt(position[0]**2+position[1]**2))\n",
    "\n",
    "print(\"Distance between the origin and the new position is:\",dist)"
   ]
  }
 ],
 "metadata": {
  "kernelspec": {
   "display_name": "Python 3",
   "language": "python",
   "name": "python3"
  },
  "language_info": {
   "codemirror_mode": {
    "name": "ipython",
    "version": 3
   },
   "file_extension": ".py",
   "mimetype": "text/x-python",
   "name": "python",
   "nbconvert_exporter": "python",
   "pygments_lexer": "ipython3",
   "version": "3.6.3"
  }
 },
 "nbformat": 4,
 "nbformat_minor": 4
}
