{
 "cells": [
  {
   "cell_type": "markdown",
   "metadata": {},
   "source": [
    "### Questions 1: Create a numpy array starting from 2 till 50 with a stepsize of 3."
   ]
  },
  {
   "cell_type": "code",
   "execution_count": 2,
   "metadata": {},
   "outputs": [
    {
     "name": "stdout",
     "output_type": "stream",
     "text": [
      "[ 2  5  8 11 14 17 20 23 26 29 32 35 38 41 44 47 50]\n"
     ]
    }
   ],
   "source": [
    "import numpy as np\n",
    "\n",
    "a1=np.arange(2,51,3)\n",
    "print(a1)"
   ]
  },
  {
   "cell_type": "markdown",
   "metadata": {},
   "source": [
    "### Questions 2: Accept two lists of 5 elements each from the user. Convert them to numpy arrays. Concatenate these arrays and print it. Also sort these arrays and print it."
   ]
  },
  {
   "cell_type": "code",
   "execution_count": 3,
   "metadata": {},
   "outputs": [
    {
     "name": "stdout",
     "output_type": "stream",
     "text": [
      "4\n",
      "5\n",
      "6\n",
      "4\n",
      "8\n",
      "set of 5 numbers entered to list1 is: [4, 5, 6, 4, 8]\n",
      "3\n",
      "5\n",
      "2\n",
      "4\n",
      "9\n",
      "set of 5 numbers entered to list2 is: [3, 5, 2, 4, 9]\n",
      "concatenation of arr1 and arr2 is:\n",
      " [4 5 6 4 8 3 5 2 4 9]\n",
      "After sorting the concatenated array is:\n",
      " [2 3 4 4 4 5 5 6 8 9]\n"
     ]
    }
   ],
   "source": [
    "list1=[]\n",
    "list2=[]\n",
    "for i in range(5):\n",
    "    a1=int(input())\n",
    "    list1.append(a1)\n",
    "print(\"set of 5 numbers entered to list1 is:\",list1)\n",
    "for j in range(5):\n",
    "    a2=int(input())\n",
    "    list2.append(a2)\n",
    "print(\"set of 5 numbers entered to list2 is:\",list2)\n",
    "arr1=np.array(list1)\n",
    "arr2=np.array(list2)\n",
    "arr3=np.concatenate((arr1,arr2),axis=0)\n",
    "print(\"concatenation of arr1 and arr2 is:\\n\",arr3)\n",
    "# sorting of arr3 which is concatenated\n",
    "arr4=np.sort(arr3)\n",
    "print(\"After sorting the concatenated array is:\\n\",arr4)\n"
   ]
  },
  {
   "cell_type": "markdown",
   "metadata": {},
   "source": [
    "### Questions 3: Write a code snippet to find the dimensions of a ndarray and its size."
   ]
  },
  {
   "cell_type": "code",
   "execution_count": 4,
   "metadata": {},
   "outputs": [
    {
     "name": "stdout",
     "output_type": "stream",
     "text": [
      "Array dimension is 2\n",
      "Array size is 9\n"
     ]
    }
   ],
   "source": [
    "arr1=np.array([[2,3,5],\n",
    "              [4,7,2],\n",
    "              [8,7,6]])\n",
    "# array dimension\n",
    "print(\"Array dimension is\",arr1.ndim)\n",
    "\n",
    "#array size\n",
    "print(\"Array size is\",np.size(arr1))"
   ]
  },
  {
   "cell_type": "markdown",
   "metadata": {},
   "source": [
    "### Questions 4: How to convert a 1D array into a 2D array? Demonstrate with the help of a code snippet   \n",
    "#### Hint: np.newaxis, np.expand_dims"
   ]
  },
  {
   "cell_type": "code",
   "execution_count": 5,
   "metadata": {},
   "outputs": [
    {
     "name": "stdout",
     "output_type": "stream",
     "text": [
      "[[ 1  2  3  4  5]\n",
      " [ 6  7  8  9 10]]\n"
     ]
    }
   ],
   "source": [
    "arr1 = np.array([1, 2, 3, 4, 5, 6, 7, 8, 9, 10])\n",
    "\n",
    "arr2 = arr1.reshape(2,5)\n",
    "\n",
    "print(arr2)"
   ]
  },
  {
   "cell_type": "markdown",
   "metadata": {},
   "source": [
    "### Questions 5: Consider two square numpy arrays. Stack them vertically and horizontally. Hint: Use vstack(), hstack()"
   ]
  },
  {
   "cell_type": "code",
   "execution_count": 6,
   "metadata": {},
   "outputs": [
    {
     "name": "stdout",
     "output_type": "stream",
     "text": [
      "Vertical stacking:\n",
      " [[1 2 3]\n",
      " [4 5 6]\n",
      " [5 6 7]\n",
      " [3 8 9]]\n",
      "\n",
      "Horizontal stacking:\n",
      " [[1 2 3 5 6 7]\n",
      " [4 5 6 3 8 9]]\n"
     ]
    }
   ],
   "source": [
    "arr1 = np.array([[1,2,3],\n",
    "                 [4,5,6]])\n",
    "  \n",
    "arr2 = np.array([[5,6,7],\n",
    "                 [3,8,9]]) \n",
    "  \n",
    "# vertical stacking \n",
    "print(\"Vertical stacking:\\n\", np.vstack((arr1, arr2))) \n",
    "  \n",
    "# horizontal stacking \n",
    "print(\"\\nHorizontal stacking:\\n\", np.hstack((arr1, arr2)))"
   ]
  },
  {
   "cell_type": "markdown",
   "metadata": {},
   "source": [
    "### Questions 6: How to get unique items and counts of unique items?"
   ]
  },
  {
   "cell_type": "code",
   "execution_count": 8,
   "metadata": {},
   "outputs": [
    {
     "name": "stdout",
     "output_type": "stream",
     "text": [
      "Original Array :  [ 2  3  4  4  8  8  2  3  3  9  4  2  8  7 12 13 12]\n",
      "Unique Values :  [ 2  3  4  7  8  9 12 13]\n",
      "Count of occurrence:  [3 3 3 1 3 1 2 1]\n"
     ]
    }
   ],
   "source": [
    "arr1=np.array([2,3,4,4,8,8,2,3,3,9,4,2,8,7,12,13,12])\n",
    "print('Original Array : ' , arr1)\n",
    "\n",
    "uniquevalues, occurcount = np.unique(arr1, return_counts=True)\n",
    "print(\"Unique Values : \" , uniquevalues)\n",
    "print(\"Count of occurrence: \", occurcount)"
   ]
  }
 ],
 "metadata": {
  "kernelspec": {
   "display_name": "Python 3",
   "language": "python",
   "name": "python3"
  },
  "language_info": {
   "codemirror_mode": {
    "name": "ipython",
    "version": 3
   },
   "file_extension": ".py",
   "mimetype": "text/x-python",
   "name": "python",
   "nbconvert_exporter": "python",
   "pygments_lexer": "ipython3",
   "version": "3.6.3"
  }
 },
 "nbformat": 4,
 "nbformat_minor": 4
}
