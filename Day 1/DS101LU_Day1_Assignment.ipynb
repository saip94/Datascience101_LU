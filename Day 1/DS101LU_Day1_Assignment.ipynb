{
 "cells": [
  {
   "cell_type": "markdown",
   "metadata": {},
   "source": [
    "### Question 1: Given the following jumbled word, OBANWRI guess the correct English word.\n",
    "\n",
    "A. RANIBOW\n",
    "B. RAINBOW\n",
    "C. BOWRANI\n",
    "D. ROBWANI"
   ]
  },
  {
   "cell_type": "markdown",
   "metadata": {},
   "source": [
    "B.RAINBOW"
   ]
  },
  {
   "cell_type": "code",
   "execution_count": 3,
   "metadata": {},
   "outputs": [
    {
     "name": "stdout",
     "output_type": "stream",
     "text": [
      "Guess the English word:BOWRANI\n",
      "You guessed word is wrong\n"
     ]
    }
   ],
   "source": [
    "word=input(\"Guess the English word:\")\n",
    "word=word.upper()\n",
    "A=\"RANIBOW\"\n",
    "B=\"RAINBOW\"\n",
    "C=\"BOWRANI\"\n",
    "D=\"ROBWANI\"\n",
    "if(word==A):\n",
    "    print(\"You guessed word is wrong\")\n",
    "elif(word==B):\n",
    "    print(\"You guessed word is correct, it is-\",B)\n",
    "elif(word==C):\n",
    "    print(\"You guessed word is wrong\")\n",
    "elif(word==D):\n",
    "    print(\"You guessed word is wrong\")"
   ]
  },
  {
   "cell_type": "markdown",
   "metadata": {},
   "source": [
    "### Questions 2: Write a program which prints “LETS UPGRADE”. (Please note that you have to print in ALL CAPS as given)"
   ]
  },
  {
   "cell_type": "code",
   "execution_count": 4,
   "metadata": {},
   "outputs": [
    {
     "name": "stdout",
     "output_type": "stream",
     "text": [
      "LETS UPGRADE\n",
      "LETS UPGRADE\n"
     ]
    }
   ],
   "source": [
    "# Method1\n",
    "print(\"LETS UPGRADE\")\n",
    "\n",
    "#Method2\n",
    "str1=\"Lets Upgrade\"\n",
    "print(str1.upper())"
   ]
  },
  {
   "cell_type": "code",
   "execution_count": 5,
   "metadata": {},
   "outputs": [
    {
     "name": "stdout",
     "output_type": "stream",
     "text": [
      "Enter a String:Lets Upgrade\n",
      "LETS UPGRADE\n"
     ]
    }
   ],
   "source": [
    "str2=input(\"Enter a String:\")\n",
    "print(str2.upper())"
   ]
  },
  {
   "cell_type": "markdown",
   "metadata": {},
   "source": [
    "### Questions 3:\n",
    "Write a program that takes cost price and selling price as input and displays whether the transaction is a Profit or a Loss or Neither.\n",
    "\n",
    "INPUT FORMAT\n",
    "The first line contains the cost price.\n",
    "The second line contains the selling price.\n",
    "\n",
    "OUTPUT FORMAT\n",
    "Print \"Profit\" if the transaction is a profit or \"Loss\" if it is a loss. If it is neither\n",
    "profit nor loss, print \"Neither\". (You must not have quotes in your output)"
   ]
  },
  {
   "cell_type": "code",
   "execution_count": 7,
   "metadata": {},
   "outputs": [
    {
     "name": "stdout",
     "output_type": "stream",
     "text": [
      "cost price:42\n",
      "selling price:38\n",
      "Loss\n"
     ]
    }
   ],
   "source": [
    "cost_price=int(input(\"cost price:\"))\n",
    "selling_price=int(input(\"selling price:\"))\n",
    "if((selling_price-cost_price)>0):\n",
    "    print(\"Profit\")\n",
    "elif((selling_price-cost_price)<0):\n",
    "    print(\"Loss\")\n",
    "else:\n",
    "    print(\"Neither\")"
   ]
  },
  {
   "cell_type": "markdown",
   "metadata": {},
   "source": [
    "### Questions 4:\n",
    "Write a program that takes an amount in Euros as input. You need to find its equivalent inRupees and display it. Assume 1 Euro equals Rs. 80.\n",
    "\n",
    "Please note that you are expected to stick to the given input and output\n",
    "format as in sample test cases. Please don't add any extra lines such as\n",
    "'Enter a number', etc.\n",
    "\n",
    "Your program should take only one number as input and display the output."
   ]
  },
  {
   "cell_type": "code",
   "execution_count": 8,
   "metadata": {},
   "outputs": [
    {
     "name": "stdout",
     "output_type": "stream",
     "text": [
      "Input:20\n",
      "Output: 1600\n"
     ]
    }
   ],
   "source": [
    "euro=int(input(\"Input:\"))\n",
    "rupee=euro*80\n",
    "print(\"Output:\",rupee)"
   ]
  }
 ],
 "metadata": {
  "kernelspec": {
   "display_name": "Python 3",
   "language": "python",
   "name": "python3"
  },
  "language_info": {
   "codemirror_mode": {
    "name": "ipython",
    "version": 3
   },
   "file_extension": ".py",
   "mimetype": "text/x-python",
   "name": "python",
   "nbconvert_exporter": "python",
   "pygments_lexer": "ipython3",
   "version": "3.6.3"
  }
 },
 "nbformat": 4,
 "nbformat_minor": 4
}
